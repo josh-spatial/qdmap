{
 "cells": [
  {
   "cell_type": "markdown",
   "metadata": {},
   "source": [
    "# Geoprocessing with GeoPanda vice PyQGIS\n",
    "\n",
    "1. Import the raw potential explosion site (PES) layer data.\n",
    "2. Read the PES data into a GeoDataframe.\n",
    "3. Calculate the QDs and add them as new columns in the GeoDataframe.\n",
    "4. Create buffer geometry columns for each QD based on the respective calculated QD.\n",
    "5. Create new GeoDataframes for each QD buffer with the geometry of the respective QD buffer.\n",
    "6. Export the GeoDataframes to layers within a single output Geopackage file.\n",
    "7. Import the Geopackage output file into QGIS."
   ]
  },
  {
   "cell_type": "markdown",
   "metadata": {},
   "source": [
    "## Setup and Data Download"
   ]
  },
  {
   "cell_type": "code",
   "execution_count": 1,
   "metadata": {
    "tags": []
   },
   "outputs": [],
   "source": [
    "try:\n",
    "    import geopandas\n",
    "except ModuleNotFoundError:\n",
    "    if 'google.colab' in str(get_ipython()):\n",
    "        !apt install libspatialindex-dev -qq\n",
    "        !pip install fiona shapely pyproj rtree --quiet\n",
    "        !pip install geopandas --quiet\n",
    "    else:\n",
    "        print('geopandas not found, please install via conda in your environment')"
   ]
  },
  {
   "cell_type": "code",
   "execution_count": 2,
   "metadata": {
    "tags": []
   },
   "outputs": [],
   "source": [
    "import os\n",
    "import pandas as pd\n",
    "import geopandas as gpd\n",
    "import numpy as np\n",
    "import matplotlib.pyplot as plt"
   ]
  },
  {
   "cell_type": "code",
   "execution_count": 3,
   "metadata": {
    "tags": []
   },
   "outputs": [],
   "source": [
    "data_folder = 'data'\n",
    "output_folder = 'output'\n",
    "\n",
    "if not os.path.exists(data_folder):\n",
    "    os.mkdir(data_folder)\n",
    "if not os.path.exists(output_folder):\n",
    "    os.mkdir(output_folder)"
   ]
  },
  {
   "cell_type": "code",
   "execution_count": 4,
   "metadata": {
    "tags": []
   },
   "outputs": [],
   "source": [
    "input_file = 'pes_initial_data.gpkg'\n",
    "input_path = os.path.join(data_folder, input_file)\n",
    "pes_gdf = gpd.read_file(input_path)"
   ]
  },
  {
   "cell_type": "code",
   "execution_count": 5,
   "metadata": {
    "tags": []
   },
   "outputs": [
    {
     "data": {
      "text/html": [
       "<div>\n",
       "<style scoped>\n",
       "    .dataframe tbody tr th:only-of-type {\n",
       "        vertical-align: middle;\n",
       "    }\n",
       "\n",
       "    .dataframe tbody tr th {\n",
       "        vertical-align: top;\n",
       "    }\n",
       "\n",
       "    .dataframe thead th {\n",
       "        text-align: right;\n",
       "    }\n",
       "</style>\n",
       "<table border=\"1\" class=\"dataframe\">\n",
       "  <thead>\n",
       "    <tr style=\"text-align: right;\">\n",
       "      <th></th>\n",
       "      <th>facilitynum</th>\n",
       "      <th>neq_1_1</th>\n",
       "      <th>typecode</th>\n",
       "      <th>blast_dist_1_hd_1_1</th>\n",
       "      <th>geometry</th>\n",
       "    </tr>\n",
       "  </thead>\n",
       "  <tbody>\n",
       "    <tr>\n",
       "      <th>0</th>\n",
       "      <td>1</td>\n",
       "      <td>50000.0</td>\n",
       "      <td>AGM</td>\n",
       "      <td>16.21</td>\n",
       "      <td>POLYGON ((407055.403 70063.269, 407067.371 700...</td>\n",
       "    </tr>\n",
       "    <tr>\n",
       "      <th>1</th>\n",
       "      <td>2</td>\n",
       "      <td>25000.0</td>\n",
       "      <td>AGM</td>\n",
       "      <td>10.23</td>\n",
       "      <td>POLYGON ((407096.332 70121.079, 407098.834 701...</td>\n",
       "    </tr>\n",
       "    <tr>\n",
       "      <th>2</th>\n",
       "      <td>3</td>\n",
       "      <td>100000.0</td>\n",
       "      <td>AGM</td>\n",
       "      <td>20.42</td>\n",
       "      <td>POLYGON ((407020.443 70117.862, 407026.996 701...</td>\n",
       "    </tr>\n",
       "    <tr>\n",
       "      <th>3</th>\n",
       "      <td>4</td>\n",
       "      <td>500.0</td>\n",
       "      <td>EOL</td>\n",
       "      <td>2.78</td>\n",
       "      <td>POLYGON ((406928.046 70046.848, 406923.105 700...</td>\n",
       "    </tr>\n",
       "  </tbody>\n",
       "</table>\n",
       "</div>"
      ],
      "text/plain": [
       "  facilitynum   neq_1_1 typecode  blast_dist_1_hd_1_1  \\\n",
       "0           1   50000.0      AGM                16.21   \n",
       "1           2   25000.0      AGM                10.23   \n",
       "2           3  100000.0      AGM                20.42   \n",
       "3           4     500.0      EOL                 2.78   \n",
       "\n",
       "                                            geometry  \n",
       "0  POLYGON ((407055.403 70063.269, 407067.371 700...  \n",
       "1  POLYGON ((407096.332 70121.079, 407098.834 701...  \n",
       "2  POLYGON ((407020.443 70117.862, 407026.996 701...  \n",
       "3  POLYGON ((406928.046 70046.848, 406923.105 700...  "
      ]
     },
     "execution_count": 5,
     "metadata": {},
     "output_type": "execute_result"
    }
   ],
   "source": [
    "pes_gdf"
   ]
  },
  {
   "cell_type": "markdown",
   "metadata": {},
   "source": [
    "### Visualize the layer"
   ]
  },
  {
   "cell_type": "code",
   "execution_count": 6,
   "metadata": {
    "tags": []
   },
   "outputs": [
    {
     "data": {
      "image/png": "[encoded data removed]",
      "text/plain": [
       "<Figure size 1500x700 with 1 Axes>"
      ]
     },
     "metadata": {},
     "output_type": "display_data"
    }
   ],
   "source": [
    "fig, ax = plt.subplots(1, 1)\n",
    "fig.set_size_inches(15,7)\n",
    "pes_gdf.plot(ax=ax, color='red', alpha=0.5)\n",
    "\n",
    "minx, miny, maxx, maxy = pes_gdf.total_bounds\n",
    "ax.set_xlim(minx, maxx)\n",
    "ax.set_ylim(miny, maxy)\n",
    "\n",
    "legend_elements = [\n",
    "    plt.plot([],[], color='red', alpha=0.5, label='Potential Explosion Sites', ls='')[0]]\n",
    "ax.legend()\n",
    "ax.get_xaxis().set_visible(False)\n",
    "ax.get_yaxis().set_visible(False)\n",
    "plt.show()"
   ]
  },
  {
   "cell_type": "markdown",
   "metadata": {},
   "source": [
    "Check the CRS of the GDF. (Make sure we are in a projected CRS so that we can perform the buffer operation, otherwise we need to reproject into one first.)"
   ]
  },
  {
   "cell_type": "code",
   "execution_count": 7,
   "metadata": {
    "tags": []
   },
   "outputs": [
    {
     "data": {
      "text/plain": [
       "<Projected CRS: EPSG:6487>\n",
       "Name: NAD83(2011) / Maryland\n",
       "Axis Info [cartesian]:\n",
       "- X[east]: Easting (metre)\n",
       "- Y[north]: Northing (metre)\n",
       "Area of Use:\n",
       "- name: United States (USA) - Maryland - counties of Allegany; Anne Arundel; Baltimore; Calvert; Caroline; Carroll; Cecil; Charles; Dorchester; Frederick; Garrett; Harford; Howard; Kent; Montgomery; Prince Georges; Queen Annes; Somerset; St Marys; Talbot; Washington; Wicomico; Worcester.\n",
       "- bounds: (-79.49, 37.97, -74.97, 39.73)\n",
       "Coordinate Operation:\n",
       "- name: SPCS83 Maryland zone (meters)\n",
       "- method: Lambert Conic Conformal (2SP)\n",
       "Datum: NAD83 (National Spatial Reference System 2011)\n",
       "- Ellipsoid: GRS 1980\n",
       "- Prime Meridian: Greenwich"
      ]
     },
     "execution_count": 7,
     "metadata": {},
     "output_type": "execute_result"
    }
   ],
   "source": [
    "pes_gdf.crs"
   ]
  },
  {
   "cell_type": "markdown",
   "metadata": {},
   "source": [
    "## Geodataframe analysis"
   ]
  },
  {
   "cell_type": "markdown",
   "metadata": {},
   "source": [
    "### Import qdcalc module"
   ]
  },
  {
   "cell_type": "code",
   "execution_count": 8,
   "metadata": {
    "tags": []
   },
   "outputs": [],
   "source": [
    "# Import sys to add the path to qdcalc.py \n",
    "import sys\n",
    "# Make sure qdcalc.py is in the path.\n",
    "sys.path.append(\"/Users/josh/github/qdmap/qdmap/\")\n"
   ]
  },
  {
   "cell_type": "code",
   "execution_count": 9,
   "metadata": {
    "tags": []
   },
   "outputs": [],
   "source": [
    "# Import the qdcalc module with all of the QD functions already defined.\n",
    "import qdcalc as qd"
   ]
  },
  {
   "cell_type": "code",
   "execution_count": 11,
   "metadata": {
    "tags": []
   },
   "outputs": [],
   "source": [
    "# # add the other functions.\n",
    "# pes_gdf['hd_1_1_bd_2'] = pes_gdf.neq_1_1.apply(qd.bd2)\n",
    "# pes_gdf['hd_1_1_bd_3'] = pes_gdf.neq_1_1.apply(qd.bd3)\n",
    "\n",
    "# pes_gdf = pes_gdf.round({'hd_1_1_bd_2': 2, 'hd_1_1_bd_3': 2})\n",
    "# pes_gdf.head()"
   ]
  },
  {
   "cell_type": "code",
   "execution_count": 12,
   "metadata": {
    "tags": []
   },
   "outputs": [
    {
     "data": {
      "text/html": [
       "<div>\n",
       "<style scoped>\n",
       "    .dataframe tbody tr th:only-of-type {\n",
       "        vertical-align: middle;\n",
       "    }\n",
       "\n",
       "    .dataframe tbody tr th {\n",
       "        vertical-align: top;\n",
       "    }\n",
       "\n",
       "    .dataframe thead th {\n",
       "        text-align: right;\n",
       "    }\n",
       "</style>\n",
       "<table border=\"1\" class=\"dataframe\">\n",
       "  <thead>\n",
       "    <tr style=\"text-align: right;\">\n",
       "      <th></th>\n",
       "      <th>facilitynum</th>\n",
       "      <th>neq_1_1</th>\n",
       "      <th>typecode</th>\n",
       "      <th>blast_dist_1_hd_1_1</th>\n",
       "      <th>geometry</th>\n",
       "    </tr>\n",
       "  </thead>\n",
       "  <tbody>\n",
       "    <tr>\n",
       "      <th>0</th>\n",
       "      <td>1</td>\n",
       "      <td>50000.0</td>\n",
       "      <td>AGM</td>\n",
       "      <td>16.21</td>\n",
       "      <td>POLYGON ((407055.403 70063.269, 407067.371 700...</td>\n",
       "    </tr>\n",
       "    <tr>\n",
       "      <th>1</th>\n",
       "      <td>2</td>\n",
       "      <td>25000.0</td>\n",
       "      <td>AGM</td>\n",
       "      <td>10.23</td>\n",
       "      <td>POLYGON ((407096.332 70121.079, 407098.834 701...</td>\n",
       "    </tr>\n",
       "    <tr>\n",
       "      <th>2</th>\n",
       "      <td>3</td>\n",
       "      <td>100000.0</td>\n",
       "      <td>AGM</td>\n",
       "      <td>20.42</td>\n",
       "      <td>POLYGON ((407020.443 70117.862, 407026.996 701...</td>\n",
       "    </tr>\n",
       "    <tr>\n",
       "      <th>3</th>\n",
       "      <td>4</td>\n",
       "      <td>500.0</td>\n",
       "      <td>EOL</td>\n",
       "      <td>2.78</td>\n",
       "      <td>POLYGON ((406928.046 70046.848, 406923.105 700...</td>\n",
       "    </tr>\n",
       "  </tbody>\n",
       "</table>\n",
       "</div>"
      ],
      "text/plain": [
       "  facilitynum   neq_1_1 typecode  blast_dist_1_hd_1_1  \\\n",
       "0           1   50000.0      AGM                16.21   \n",
       "1           2   25000.0      AGM                10.23   \n",
       "2           3  100000.0      AGM                20.42   \n",
       "3           4     500.0      EOL                 2.78   \n",
       "\n",
       "                                            geometry  \n",
       "0  POLYGON ((407055.403 70063.269, 407067.371 700...  \n",
       "1  POLYGON ((407096.332 70121.079, 407098.834 701...  \n",
       "2  POLYGON ((407020.443 70117.862, 407026.996 701...  \n",
       "3  POLYGON ((406928.046 70046.848, 406923.105 700...  "
      ]
     },
     "execution_count": 12,
     "metadata": {},
     "output_type": "execute_result"
    }
   ],
   "source": [
    "pes_gdf.head()"
   ]
  },
  {
   "cell_type": "code",
   "execution_count": 15,
   "metadata": {
    "tags": []
   },
   "outputs": [],
   "source": [
    "# Automate this by looping through a list of functions.\n",
    "# TODO add the rest of the functions \n",
    "func_list = [\n",
    "    qd.bd1, \n",
    "    qd.bd2, \n",
    "    qd.bd3,\n",
    "    qd.bd4,\n",
    "    qd.bd5,\n",
    "    qd.bd6,\n",
    "    qd.bd7,\n",
    "    qd.bd8,\n",
    "    qd.bd9,\n",
    "    qd.bd10,\n",
    "    qd.bd11,\n",
    "    qd.bd12,\n",
    "    qd.bd13,\n",
    "    qd.bd14,\n",
    "    qd.bd15,\n",
    "    qd.bd16,\n",
    "    qd.bd17,\n",
    "    qd.bd18,\n",
    "    qd.bd19,\n",
    "    qd.bd20,\n",
    "    qd.bd21,\n",
    "    qd.bd22,\n",
    "    qd.bd23,\n",
    "    qd.bd24,\n",
    "    qd.bd25,\n",
    "    qd.bd26,\n",
    "    qd.bd27,\n",
    "    qd.bd28,\n",
    "    qd.bd29,\n",
    "    qd.bd30,\n",
    "    qd.bd31,\n",
    "    qd.bd32,\n",
    "    qd.bd33,\n",
    "    qd.bd34,\n",
    "    qd.bd36,\n",
    "    ]\n",
    "    \n",
    "# loop through the list of functions and add columns based on HD 1.1 NEQ\n",
    "for func in func_list:\n",
    "    new_col_name = 'hd_1_1_' + func.__name__  # get the name of the function\n",
    "    pes_gdf[new_col_name] = pes_gdf.neq_1_1.apply(func)  # apply the function with NEQ 1.1 and create a new column\n"
   ]
  },
  {
   "cell_type": "code",
   "execution_count": 16,
   "metadata": {
    "tags": []
   },
   "outputs": [
    {
     "data": {
      "text/html": [
       "<div>\n",
       "<style scoped>\n",
       "    .dataframe tbody tr th:only-of-type {\n",
       "        vertical-align: middle;\n",
       "    }\n",
       "\n",
       "    .dataframe tbody tr th {\n",
       "        vertical-align: top;\n",
       "    }\n",
       "\n",
       "    .dataframe thead th {\n",
       "        text-align: right;\n",
       "    }\n",
       "</style>\n",
       "<table border=\"1\" class=\"dataframe\">\n",
       "  <thead>\n",
       "    <tr style=\"text-align: right;\">\n",
       "      <th></th>\n",
       "      <th>facilitynum</th>\n",
       "      <th>neq_1_1</th>\n",
       "      <th>typecode</th>\n",
       "      <th>blast_dist_1_hd_1_1</th>\n",
       "      <th>geometry</th>\n",
       "      <th>hd_1_1_bd1</th>\n",
       "      <th>hd_1_1_bd2</th>\n",
       "      <th>hd_1_1_bd3</th>\n",
       "      <th>hd_1_1_bd4</th>\n",
       "      <th>hd_1_1_bd5</th>\n",
       "      <th>...</th>\n",
       "      <th>hd_1_1_bd26</th>\n",
       "      <th>hd_1_1_bd27</th>\n",
       "      <th>hd_1_1_bd28</th>\n",
       "      <th>hd_1_1_bd29</th>\n",
       "      <th>hd_1_1_bd30</th>\n",
       "      <th>hd_1_1_bd31</th>\n",
       "      <th>hd_1_1_bd32</th>\n",
       "      <th>hd_1_1_bd33</th>\n",
       "      <th>hd_1_1_bd34</th>\n",
       "      <th>hd_1_1_bd36</th>\n",
       "    </tr>\n",
       "  </thead>\n",
       "  <tbody>\n",
       "    <tr>\n",
       "      <th>0</th>\n",
       "      <td>1</td>\n",
       "      <td>50000.0</td>\n",
       "      <td>AGM</td>\n",
       "      <td>16.21</td>\n",
       "      <td>POLYGON ((407055.403 70063.269, 407067.371 700...</td>\n",
       "      <td>16.209739</td>\n",
       "      <td>22.104189</td>\n",
       "      <td>18.420157</td>\n",
       "      <td>29.472252</td>\n",
       "      <td>40.524346</td>\n",
       "      <td>...</td>\n",
       "      <td>545.236662</td>\n",
       "      <td>589.445040</td>\n",
       "      <td>663.125670</td>\n",
       "      <td>736.806300</td>\n",
       "      <td>817.854993</td>\n",
       "      <td>817.854993</td>\n",
       "      <td>921.007875</td>\n",
       "      <td>1031.528820</td>\n",
       "      <td>1326.251340</td>\n",
       "      <td>1635.709985</td>\n",
       "    </tr>\n",
       "    <tr>\n",
       "      <th>1</th>\n",
       "      <td>2</td>\n",
       "      <td>25000.0</td>\n",
       "      <td>AGM</td>\n",
       "      <td>10.23</td>\n",
       "      <td>POLYGON ((407096.332 70121.079, 407098.834 701...</td>\n",
       "      <td>10.234062</td>\n",
       "      <td>17.544106</td>\n",
       "      <td>14.620089</td>\n",
       "      <td>23.392142</td>\n",
       "      <td>32.164195</td>\n",
       "      <td>...</td>\n",
       "      <td>432.754625</td>\n",
       "      <td>467.842838</td>\n",
       "      <td>526.323193</td>\n",
       "      <td>584.803548</td>\n",
       "      <td>649.131938</td>\n",
       "      <td>649.131938</td>\n",
       "      <td>731.004435</td>\n",
       "      <td>818.724967</td>\n",
       "      <td>1052.646386</td>\n",
       "      <td>1298.263876</td>\n",
       "    </tr>\n",
       "    <tr>\n",
       "      <th>2</th>\n",
       "      <td>3</td>\n",
       "      <td>100000.0</td>\n",
       "      <td>AGM</td>\n",
       "      <td>20.42</td>\n",
       "      <td>POLYGON ((407020.443 70117.862, 407026.996 701...</td>\n",
       "      <td>20.422991</td>\n",
       "      <td>27.849533</td>\n",
       "      <td>23.207944</td>\n",
       "      <td>37.132711</td>\n",
       "      <td>51.057477</td>\n",
       "      <td>...</td>\n",
       "      <td>686.955147</td>\n",
       "      <td>742.654213</td>\n",
       "      <td>835.485990</td>\n",
       "      <td>928.317767</td>\n",
       "      <td>1030.432721</td>\n",
       "      <td>1030.432721</td>\n",
       "      <td>1160.397208</td>\n",
       "      <td>1299.644873</td>\n",
       "      <td>1670.971980</td>\n",
       "      <td>2060.865442</td>\n",
       "    </tr>\n",
       "    <tr>\n",
       "      <th>3</th>\n",
       "      <td>4</td>\n",
       "      <td>500.0</td>\n",
       "      <td>EOL</td>\n",
       "      <td>2.78</td>\n",
       "      <td>POLYGON ((406928.046 70046.848, 406923.105 700...</td>\n",
       "      <td>2.777952</td>\n",
       "      <td>3.174802</td>\n",
       "      <td>3.968503</td>\n",
       "      <td>6.349604</td>\n",
       "      <td>8.730706</td>\n",
       "      <td>...</td>\n",
       "      <td>62.996052</td>\n",
       "      <td>126.992084</td>\n",
       "      <td>76.855184</td>\n",
       "      <td>158.740105</td>\n",
       "      <td>176.201517</td>\n",
       "      <td>94.494079</td>\n",
       "      <td>198.425131</td>\n",
       "      <td>119.062539</td>\n",
       "      <td>153.080408</td>\n",
       "      <td>188.988157</td>\n",
       "    </tr>\n",
       "  </tbody>\n",
       "</table>\n",
       "<p>4 rows × 40 columns</p>\n",
       "</div>"
      ],
      "text/plain": [
       "  facilitynum   neq_1_1 typecode  blast_dist_1_hd_1_1  \\\n",
       "0           1   50000.0      AGM                16.21   \n",
       "1           2   25000.0      AGM                10.23   \n",
       "2           3  100000.0      AGM                20.42   \n",
       "3           4     500.0      EOL                 2.78   \n",
       "\n",
       "                                            geometry  hd_1_1_bd1  hd_1_1_bd2  \\\n",
       "0  POLYGON ((407055.403 70063.269, 407067.371 700...   16.209739   22.104189   \n",
       "1  POLYGON ((407096.332 70121.079, 407098.834 701...   10.234062   17.544106   \n",
       "2  POLYGON ((407020.443 70117.862, 407026.996 701...   20.422991   27.849533   \n",
       "3  POLYGON ((406928.046 70046.848, 406923.105 700...    2.777952    3.174802   \n",
       "\n",
       "   hd_1_1_bd3  hd_1_1_bd4  hd_1_1_bd5  ...  hd_1_1_bd26  hd_1_1_bd27  \\\n",
       "0   18.420157   29.472252   40.524346  ...   545.236662   589.445040   \n",
       "1   14.620089   23.392142   32.164195  ...   432.754625   467.842838   \n",
       "2   23.207944   37.132711   51.057477  ...   686.955147   742.654213   \n",
       "3    3.968503    6.349604    8.730706  ...    62.996052   126.992084   \n",
       "\n",
       "   hd_1_1_bd28  hd_1_1_bd29  hd_1_1_bd30  hd_1_1_bd31  hd_1_1_bd32  \\\n",
       "0   663.125670   736.806300   817.854993   817.854993   921.007875   \n",
       "1   526.323193   584.803548   649.131938   649.131938   731.004435   \n",
       "2   835.485990   928.317767  1030.432721  1030.432721  1160.397208   \n",
       "3    76.855184   158.740105   176.201517    94.494079   198.425131   \n",
       "\n",
       "   hd_1_1_bd33  hd_1_1_bd34  hd_1_1_bd36  \n",
       "0  1031.528820  1326.251340  1635.709985  \n",
       "1   818.724967  1052.646386  1298.263876  \n",
       "2  1299.644873  1670.971980  2060.865442  \n",
       "3   119.062539   153.080408   188.988157  \n",
       "\n",
       "[4 rows x 40 columns]"
      ]
     },
     "execution_count": 16,
     "metadata": {},
     "output_type": "execute_result"
    }
   ],
   "source": [
    "pes_gdf.head()"
   ]
  },
  {
   "cell_type": "markdown",
   "metadata": {
    "tags": []
   },
   "source": [
    "\n",
    "### Round the QD columns to 2 decimal places\n",
    "pes_gdf = pes_gdf.round({'hd_1_1_bd_1': 2})\n"
   ]
  },
  {
   "cell_type": "code",
   "execution_count": null,
   "metadata": {},
   "outputs": [],
   "source": [
    "# create buffer geometry GeoSeries based on newly computed QDs\n",
    "qd_functions = {\n",
    "    'hd_1_1_bd_1': pes_gdf.hd_1_1_bd_1,\n",
    "    'hd_1_1_bd_2': pes_gdf.hd_1_1_bd_2,\n",
    "    'hd_1_1_bd_3': pes_gdf.hd_1_1_bd_3}\n",
    "\n",
    "# Add the GeoSeries to the geodataframe with a loop\n",
    "for qd_type, distance in qd_functions.items():\n",
    "    buffer_name = qd_type + '_buff_geom'\n",
    "    pes_gdf[buffer_name] = pes_gdf.buffer(\n",
    "        distance,\n",
    "        resolution=40,\n",
    "        cap_style=1,\n",
    "        join_style=1,\n",
    "        mitre_limit=2)\n",
    "\n",
    "qd_functions.keys()\n"
   ]
  },
  {
   "cell_type": "code",
   "execution_count": null,
   "metadata": {},
   "outputs": [],
   "source": [
    "pes_gdf.head()"
   ]
  },
  {
   "cell_type": "code",
   "execution_count": null,
   "metadata": {},
   "outputs": [],
   "source": [
    "ax = pes_gdf[\"geometry\"].plot()\n",
    "pes_gdf[\"hd_1_1_bd_1_buff_geom\"].plot(ax=ax, color=\"red\", alpha=0.5)\n",
    "pes_gdf[\"hd_1_1_bd_2_buff_geom\"].plot(ax=ax, color=\"purple\", alpha=0.5)\n"
   ]
  },
  {
   "cell_type": "code",
   "execution_count": null,
   "metadata": {},
   "outputs": [],
   "source": [
    "output_file = 'processed_data.gpkg'\n",
    "output_path = os.path.join(output_folder, output_file)\n",
    "\n",
    "\n",
    "# Example code from https://gis.stackexchange.com/questions/375577/how-do-i-write-out-a-mixed-geometry-geodataframe-to-a-geopackage\n",
    "# *** How to export a GDF with multiple geometries to separate layers in the same geopackage file.\n",
    "\n",
    "# for geomtype in pes_gdf.geom_type.unique():\n",
    "#    pes_gdf[pes_gdf.geom_type == geomtype].to_file(output_path, driver=\"GPKG\", layer=geomtype)"
   ]
  },
  {
   "cell_type": "code",
   "execution_count": null,
   "metadata": {},
   "outputs": [],
   "source": [
    "pes_gdf.geometry"
   ]
  },
  {
   "cell_type": "code",
   "execution_count": null,
   "metadata": {},
   "outputs": [],
   "source": [
    "qd_functions.keys()"
   ]
  },
  {
   "cell_type": "code",
   "execution_count": null,
   "metadata": {},
   "outputs": [],
   "source": [
    "# Make a list of the new buffered geometries\n",
    "qd_function_key_list = list(qd_functions.keys())\n",
    "string_suffix = '_buff_geom'\n",
    "buffer_geometries = [x + string_suffix for x in qd_function_key_list]\n",
    "\n",
    "# Create a dictionary so I can grab both values for exporting\n",
    "qd_buffer_dict = dict(zip(buffer_geometries, qd_function_key_list))\n",
    "\n",
    "print(qd_buffer_dict)\n",
    "\n",
    "#"
   ]
  },
  {
   "cell_type": "code",
   "execution_count": null,
   "metadata": {},
   "outputs": [],
   "source": [
    "# I need more than just the geometry. \n",
    "# To select multiple columns, use a list of column names within the selection brackets [].\n",
    "\n",
    "for buffer_geometry in buffer_geometries:\n",
    "   pes_gdf[buffer_geometry].to_file(output_path, driver=\"GPKG\", layer=buffer_geometry)"
   ]
  },
  {
   "cell_type": "code",
   "execution_count": null,
   "metadata": {},
   "outputs": [],
   "source": []
  }
 ],
 "metadata": {
  "kernelspec": {
   "display_name": "Python 3 (ipykernel)",
   "language": "python",
   "name": "python3"
  },
  "language_info": {
   "codemirror_mode": {
    "name": "ipython",
    "version": 3
   },
   "file_extension": ".py",
   "mimetype": "text/x-python",
   "name": "python",
   "nbconvert_exporter": "python",
   "pygments_lexer": "ipython3",
   "version": "3.11.2"
  }
 },
 "nbformat": 4,
 "nbformat_minor": 4
}
