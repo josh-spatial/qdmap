{
  "cells": [
    {
      "cell_type": "markdown",
      "metadata": {
        "colab_type": "text",
        "id": "view-in-github"
      },
      "source": [
        "<a href=\"https://colab.research.google.com/github/josh-spatial/qdmap/blob/main/qd_function.ipynb\" target=\"_parent\"><img src=\"https://colab.research.google.com/assets/colab-badge.svg\" alt=\"Open In Colab\"/></a>"
      ]
    },
    {
      "cell_type": "markdown",
      "id": "d7791a18",
      "metadata": {
        "id": "d7791a18"
      },
      "source": [
        "# Create a basic quantity-distance calculator"
      ]
    },
    {
      "cell_type": "code",
      "execution_count": null,
      "id": "c2e2156d",
      "metadata": {
        "hide_input": false,
        "id": "c2e2156d"
      },
      "outputs": [],
      "source": [
        "import os\n",
        "import math"
      ]
    },
    {
      "cell_type": "code",
      "execution_count": null,
      "id": "3f07ec4d",
      "metadata": {
        "id": "3f07ec4d",
        "outputId": "7b5ce702-fe43-4f2d-821b-c5c628322b9a"
      },
      "outputs": [],
      "source": [
        "new1 = float(input(\"Enter the HD 1.1 net explosive weight (NEW) in pounds: \"))"
      ]
    },
    {
      "cell_type": "code",
      "execution_count": null,
      "id": "a3c95046",
      "metadata": {
        "id": "a3c95046",
        "outputId": "1c0852a4-d563-48d2-ad76-c4288d179090"
      },
      "outputs": [],
      "source": [
        "print(\"HD 1.1 NEW is \" + str(new1) + \" lb\")"
      ]
    },
    {
      "cell_type": "markdown",
      "id": "ewOm1Z_lGvVK",
      "metadata": {
        "id": "ewOm1Z_lGvVK"
      },
      "source": [
        "The \"K factor\" is used for different levels of exposure to explosives effects, and is usually associated with blast overpressure."
      ]
    },
    {
      "cell_type": "code",
      "execution_count": null,
      "id": "bf3dc50d",
      "metadata": {
        "id": "bf3dc50d",
        "outputId": "a4007e2e-f634-4bb2-efa8-64ec7b08ced1",
        "scrolled": true
      },
      "outputs": [],
      "source": [
        "k = float(input(\"Enter the K factor: \"))"
      ]
    },
    {
      "cell_type": "markdown",
      "id": "4721ee4c",
      "metadata": {
        "id": "4721ee4c"
      },
      "source": [
        "## Compute the QD"
      ]
    },
    {
      "cell_type": "markdown",
      "id": "6fd3ab0d",
      "metadata": {
        "id": "6fd3ab0d"
      },
      "source": [
        "$$ D = K*NEW^{1/3} $$"
      ]
    },
    {
      "cell_type": "code",
      "execution_count": null,
      "id": "c3f226e5",
      "metadata": {
        "id": "c3f226e5",
        "outputId": "8b099d62-a0a3-4134-d2a0-76f574fb2d19"
      },
      "outputs": [],
      "source": [
        "qd = k * new1 ** (1/3)\n",
        "qdans = \"The QD is {} ft.\"\n",
        "print(qdans.format(qd))\n",
        "# print(\"The QD is \" + str(qd) + \" ft\")"
      ]
    },
    {
      "cell_type": "markdown",
      "id": "d2580238",
      "metadata": {
        "hide_input": true,
        "id": "d2580238"
      },
      "source": [
        "## Let's try Numpy arrays"
      ]
    },
    {
      "cell_type": "code",
      "execution_count": null,
      "id": "54054a91",
      "metadata": {
        "id": "54054a91"
      },
      "outputs": [],
      "source": [
        "import numpy as np"
      ]
    },
    {
      "cell_type": "code",
      "execution_count": null,
      "id": "a2517f34",
      "metadata": {
        "id": "a2517f34",
        "outputId": "cacc91a6-b4f3-4d97-c67c-9250a4f82e2d"
      },
      "outputs": [],
      "source": [
        "# make a range of NEW values to calculate the QD for\n",
        "end_of_range = float(input(\"Enter the maximum NEW: \"))\n"
      ]
    },
    {
      "cell_type": "code",
      "execution_count": null,
      "id": "723dd0e4",
      "metadata": {
        "id": "723dd0e4"
      },
      "outputs": [],
      "source": [
        "new_range = np.linspace(0, end_of_range, 100) # create a numpy range from 0 to \"end of range\" with 100 increments\n",
        "# print(new_range)"
      ]
    },
    {
      "cell_type": "code",
      "execution_count": null,
      "id": "b43a3bca",
      "metadata": {
        "id": "b43a3bca"
      },
      "outputs": [],
      "source": [
        "qd = k * new_range ** (1/3)\n",
        "qdans = \"The QD is {} ft.\"\n",
        "# print(qdans.format(qd))"
      ]
    },
    {
      "cell_type": "markdown",
      "id": "9159aa50",
      "metadata": {
        "id": "9159aa50"
      },
      "source": [
        "## Plot out the function"
      ]
    },
    {
      "cell_type": "code",
      "execution_count": null,
      "id": "b4d9258f",
      "metadata": {
        "id": "b4d9258f"
      },
      "outputs": [],
      "source": [
        "import matplotlib.pyplot as plt\n",
        "%matplotlib inline"
      ]
    },
    {
      "cell_type": "code",
      "execution_count": null,
      "id": "1025f50f",
      "metadata": {
        "id": "1025f50f",
        "outputId": "4de63f6d-1c7d-41f0-a4c9-e97f3258ccdb"
      },
      "outputs": [],
      "source": [
        "# create the plot\n",
        "plt.plot(new_range, qd)\n",
        "\n",
        "# provide plotting parameters\n",
        "plt.title(\"QD vs. NEW\")\n",
        "plt.ylabel(\"QD (ft)\")\n",
        "plt.xlabel(\"NEW (lb)\")\n",
        "plt.legend([\"D=18*NEW^(1/3)\"])\n",
        "\n",
        "# Plot it!\n",
        "plt.show()"
      ]
    },
    {
      "cell_type": "markdown",
      "id": "2c927755",
      "metadata": {
        "id": "2c927755"
      },
      "source": [
        "## Plot multiple functions"
      ]
    },
    {
      "cell_type": "code",
      "execution_count": null,
      "id": "e3840d30",
      "metadata": {
        "id": "e3840d30",
        "outputId": "ee04d041-efa5-4e3c-f3b0-50bdef60020a"
      },
      "outputs": [],
      "source": [
        "# make a new np array for different k factors\n",
        "#k_factors = np.array([1.5, 2., 3., 4.5, 6., 9., 11., 18., 24., 30., 40., 50., 328.])\n",
        "\n",
        "qd3 = 3 * new_range ** (1/3)\n",
        "qd9 = 9 * new_range ** (1/3)\n",
        "qd18 = 18 * new_range ** (1/3)\n",
        "qd24 = 24 * new_range ** (1/3)\n",
        "qd40 = 40 * new_range ** (1/3)\n",
        "\n",
        "# create the plot\n",
        "fig, ax = plt.subplots(figsize=(8, 3))\n",
        "plt.plot(new_range, qd3)\n",
        "plt.plot(new_range, qd9)\n",
        "plt.plot(new_range, qd18)\n",
        "plt.plot(new_range, qd24)\n",
        "plt.plot(new_range, qd40)\n",
        "# plt.grid(\"True\")\n",
        "\n",
        "plt.title(\"QD vs. NEW\")\n",
        "plt.ylabel(\"QD (ft)\")\n",
        "plt.xlabel(\"NEW (lb)\")\n",
        "plt.legend([\"K3\", \"K9\", \"K18\", \"K24\", \"K40\"])\n",
        "\n",
        "# save the figure\n",
        "plt.savefig('plot.png', dpi=300, bbox_inches='tight')\n",
        "\n",
        "plt.show()"
      ]
    },
    {
      "cell_type": "markdown",
      "id": "5bf6928e",
      "metadata": {
        "id": "5bf6928e"
      },
      "source": [
        "# Define a function"
      ]
    },
    {
      "cell_type": "code",
      "execution_count": null,
      "id": "ef454030",
      "metadata": {
        "id": "ef454030"
      },
      "outputs": [],
      "source": [
        "def qd(df, new):\n",
        "    qd = df * new ** (1/3)\n",
        "    return qd"
      ]
    },
    {
      "cell_type": "markdown",
      "id": "eb3937ac",
      "metadata": {
        "id": "eb3937ac"
      },
      "source": [
        "## Enter the factors again"
      ]
    },
    {
      "cell_type": "code",
      "execution_count": null,
      "id": "e5bdf966",
      "metadata": {
        "hide_input": false,
        "id": "e5bdf966",
        "outputId": "2d86d1ae-1cfa-42c8-d796-3653e46e6d77"
      },
      "outputs": [],
      "source": [
        "new1 = float(input(\"Enter the HD 1.1 net explosive quantity (kg): \"))\n",
        "df1 = float(input(\"Enter the first 'D' factor: \"))\n",
        "df2 = float(input(\"Enter the second 'D' factor: \"))\n",
        "df3 = float(input(\"Enter the third 'D' factor: \"))"
      ]
    },
    {
      "cell_type": "code",
      "execution_count": null,
      "id": "2e54e2e3",
      "metadata": {
        "id": "2e54e2e3",
        "scrolled": true
      },
      "outputs": [],
      "source": [
        "# run the function based on the variables given\n",
        "qd_d1 = qd(df1, new1)\n",
        "qd_d2 = qd(df2, new1)\n",
        "qd_d3 = qd(df3, new1)"
      ]
    },
    {
      "cell_type": "code",
      "execution_count": null,
      "id": "22ffb62f",
      "metadata": {
        "id": "22ffb62f",
        "outputId": "16cfadcc-714e-4883-e1b1-76465d37393a"
      },
      "outputs": [],
      "source": [
        "print(\"QD1: \" + str(qd_d1))\n",
        "print(\"QD2: \" + str(qd_d2))\n",
        "print(\"QD3: \" + str(qd_d3))"
      ]
    },
    {
      "cell_type": "code",
      "execution_count": null,
      "id": "99890ba1",
      "metadata": {
        "id": "99890ba1"
      },
      "outputs": [],
      "source": []
    }
  ],
  "metadata": {
    "colab": {
      "include_colab_link": true,
      "provenance": [],
      "toc_visible": true
    },
    "hide_input": false,
    "interpreter": {
      "hash": "cddc51341daf6a248e2ef987e5544afc1a2ab0d39aa2b8c52226f2178474a0e0"
    },
    "kernelspec": {
      "display_name": "Python 3 (ipykernel)",
      "language": "python",
      "name": "python3"
    },
    "language_info": {
      "codemirror_mode": {
        "name": "ipython",
        "version": 3
      },
      "file_extension": ".py",
      "mimetype": "text/x-python",
      "name": "python",
      "nbconvert_exporter": "python",
      "pygments_lexer": "ipython3",
      "version": "3.8.12"
    },
    "toc": {
      "base_numbering": 1,
      "nav_menu": {},
      "number_sections": true,
      "sideBar": true,
      "skip_h1_title": false,
      "title_cell": "Table of Contents",
      "title_sidebar": "Contents",
      "toc_cell": false,
      "toc_position": {
        "height": "calc(100% - 180px)",
        "left": "10px",
        "top": "150px",
        "width": "271px"
      },
      "toc_section_display": true,
      "toc_window_display": true
    }
  },
  "nbformat": 4,
  "nbformat_minor": 5
}
